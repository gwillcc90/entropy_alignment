{
 "cells": [
  {
   "cell_type": "code",
   "execution_count": 1,
   "id": "c2206d06",
   "metadata": {},
   "outputs": [],
   "source": [
    "s = 'ABCD'\n",
    "s2 = '-asdfABCD'\n",
    "s3 = '#'\n",
    "s4 = 'abcd-'\n",
    "s5 = 'ABD-'"
   ]
  },
  {
   "cell_type": "code",
   "execution_count": 2,
   "id": "dfb65e97",
   "metadata": {},
   "outputs": [],
   "source": [
    "import re\n",
    "from icecream import ic"
   ]
  },
  {
   "cell_type": "code",
   "execution_count": 3,
   "id": "d765aef9",
   "metadata": {},
   "outputs": [
    {
     "name": "stdout",
     "output_type": "stream",
     "text": [
      "<re.Match object; span=(0, 2), match='-a'>\n"
     ]
    }
   ],
   "source": [
    "print(re.match('[A-Z]*[a-z]+|-[a-z][A-Z]*-*', s2))"
   ]
  },
  {
   "cell_type": "code",
   "execution_count": 4,
   "id": "22e4a47d",
   "metadata": {},
   "outputs": [
    {
     "name": "stdout",
     "output_type": "stream",
     "text": [
      "<re.Match object; span=(0, 4), match='ABCD'>\n",
      "<re.Match object; span=(0, 0), match=''>\n",
      "<re.Match object; span=(0, 0), match=''>\n",
      "<re.Match object; span=(0, 4), match='abcd'>\n",
      "<re.Match object; span=(0, 3), match='ABD'>\n"
     ]
    }
   ],
   "source": [
    "for elem in [s, s2, s3, s4, s5]:\n",
    "    print(re.match('[A-Z]*[a-z]*|-[a-z][A-Z]*-*', elem))"
   ]
  },
  {
   "cell_type": "code",
   "execution_count": 5,
   "id": "277290be",
   "metadata": {},
   "outputs": [
    {
     "name": "stdout",
     "output_type": "stream",
     "text": [
      "<re.Match object; span=(0, 4), match='ABCD'>\n",
      "<re.Match object; span=(0, 1), match='-'>\n",
      "None\n",
      "<re.Match object; span=(0, 1), match='a'>\n",
      "<re.Match object; span=(0, 3), match='ABD'>\n"
     ]
    }
   ],
   "source": [
    "for elem in [s, s2, s3, s4, s5]:\n",
    "    print(re.match('^[A-Z]+|^-|^[a-z]', elem))"
   ]
  },
  {
   "cell_type": "code",
   "execution_count": 6,
   "id": "5e59b437",
   "metadata": {},
   "outputs": [
    {
     "name": "stdout",
     "output_type": "stream",
     "text": [
      "<re.Match object; span=(0, 1), match='A'>\n",
      "<re.Match object; span=(0, 1), match='-'>\n",
      "None\n",
      "<re.Match object; span=(0, 1), match='a'>\n",
      "<re.Match object; span=(0, 1), match='A'>\n"
     ]
    }
   ],
   "source": [
    "for elem in [s, s2, s3, s4, s5]:\n",
    "    print(re.match('[^#]', elem))"
   ]
  },
  {
   "cell_type": "code",
   "execution_count": 7,
   "id": "31153b19",
   "metadata": {},
   "outputs": [],
   "source": [
    "# comment for recommit"
   ]
  },
  {
   "cell_type": "code",
   "execution_count": 8,
   "id": "a9dffa61",
   "metadata": {},
   "outputs": [],
   "source": [
    "import numpy as np"
   ]
  },
  {
   "cell_type": "code",
   "execution_count": 9,
   "id": "239105f3",
   "metadata": {},
   "outputs": [
    {
     "name": "stderr",
     "output_type": "stream",
     "text": [
      "ic| read_alignment('test1.txt'): ['AAA', 'ACC', 'ACG', 'ACT', '#', 'AAA-', 'A-CC', 'ACG-', 'A-CT']\n",
      "ic| num_alignments(alignments): 2\n"
     ]
    }
   ],
   "source": [
    "def read_alignment(filename: str = 'test1.txt') -> list:\n",
    "    '''\n",
    "    DESCR\n",
    "    -----\n",
    "    Read in sequence alignment(s). \n",
    "    Entire file is line-by-line into a list object and stripped of whitespace.\n",
    "    List will have representation of some row-wise separator in case of multiple alignments.\n",
    "    \n",
    "    ARGS\n",
    "    -----\n",
    "    filename: name of file\n",
    "    \n",
    "    RETURNS\n",
    "    --------\n",
    "    list of alignments separated by any separator (if applicable).\n",
    "    '''\n",
    "    with open(filename, 'r') as file:\n",
    "        return [elem.strip() for elem in file.readlines()]\n",
    "    \n",
    "    '''\n",
    "    with open(filename, 'r') as file:\n",
    "        return [[*elem.strip()] for elem in file.readlines()]\n",
    "    '''\n",
    "\n",
    "\n",
    "ic(read_alignment('test1.txt'));\n",
    "alignments = read_alignment()\n",
    "\n",
    "def num_alignments(alignments: list) -> int:\n",
    "    '''\n",
    "    DESCR\n",
    "    ------\n",
    "    Checks to see if how many alignments are in an iterable of alignments by counting\n",
    "    the number of separators.\n",
    "    '''\n",
    "    counter = 0\n",
    "    for seq in alignments:\n",
    "        if not re.match('^[A-Z]+|^-|^[a-z]+', seq):\n",
    "            counter += 1\n",
    "        else: pass;\n",
    "    \n",
    "    # The number of alignments will be the number of separators + 1\n",
    "    return (counter + 1)\n",
    "\n",
    "ic(num_alignments(alignments));"
   ]
  },
  {
   "cell_type": "code",
   "execution_count": null,
   "id": "a8631854",
   "metadata": {},
   "outputs": [],
   "source": []
  },
  {
   "cell_type": "code",
   "execution_count": 10,
   "id": "8bf9738b",
   "metadata": {},
   "outputs": [
    {
     "name": "stderr",
     "output_type": "stream",
     "text": [
      "ic| columnarize(alignments): [[['AAA'], ['ACC'], ['ACG'], ['ACT']], [['AAA-'], ['A-CC'], ['ACG-'], ['A-CT']]]\n"
     ]
    }
   ],
   "source": [
    "def columnarize(alignments: list) -> list:\n",
    "    '''\n",
    "    This doesnt work for a single alignment; need to rework\n",
    "    '''\n",
    "    nested_list = list()\n",
    "    temp_list = list()\n",
    "\n",
    "    for i in range(len(alignments)):\n",
    "        # If element is part of an alignment\n",
    "        if re.match('^[A-Z]+|^-|^[a-z]+', alignments[i]):\n",
    "            # add to a temporary alignment\n",
    "            temp_list.append([alignments[i]])\n",
    "        # If element is a separator\n",
    "        else:\n",
    "            # add full alignment to a list of alignment(s)\n",
    "            nested_list.append(temp_list)\n",
    "            # reset temp alignment in case of more alignments\n",
    "            temp_list = list()\n",
    "        \n",
    "    nested_list.append(temp_list)\n",
    "    return nested_list\n",
    "\n",
    "ic(columnarize(alignments))\n",
    "alignments = columnarize(alignments)\n",
    "\n",
    "\n",
    "NUCLEOTIDES = {'G', 'C', 'A', 'T', '-'}"
   ]
  },
  {
   "cell_type": "code",
   "execution_count": 15,
   "id": "1f3aecd2",
   "metadata": {},
   "outputs": [
    {
     "name": "stdout",
     "output_type": "stream",
     "text": [
      "A\n",
      "A\n",
      "A\n",
      "A\n"
     ]
    }
   ],
   "source": [
    "\n",
    "\n",
    "def test(nested_list, num_alignments):\n",
    "    temp = ''\n",
    "    # Loop for each alignment(s)\n",
    "    for i in range(num_alignments):\n",
    "        # Loop \n",
    "        for i in range(len(nested_list[i])):\n",
    "            print(nested_list[0][i][0])\n",
    "            temp += nested_list[0][i][0]\n",
    "        \n",
    "test(alignments, num_alignments = num_alignments)"
   ]
  },
  {
   "cell_type": "code",
   "execution_count": null,
   "id": "a6bf7398",
   "metadata": {},
   "outputs": [],
   "source": []
  },
  {
   "cell_type": "code",
   "execution_count": 169,
   "id": "71394cad",
   "metadata": {},
   "outputs": [
    {
     "data": {
      "text/plain": [
       "{'G': 0, 'A': 0, 'C': 0, '-': 0, 'T': 0}"
      ]
     },
     "execution_count": 169,
     "metadata": {},
     "output_type": "execute_result"
    }
   ],
   "source": [
    "{k:0 for k in NUCLEOTIDES}"
   ]
  },
  {
   "cell_type": "code",
   "execution_count": 97,
   "id": "43b4a0e6",
   "metadata": {},
   "outputs": [
    {
     "data": {
      "text/plain": [
       "'AAAA'"
      ]
     },
     "execution_count": 97,
     "metadata": {},
     "output_type": "execute_result"
    }
   ],
   "source": [
    "temp"
   ]
  },
  {
   "cell_type": "code",
   "execution_count": 101,
   "id": "00026236",
   "metadata": {},
   "outputs": [
    {
     "data": {
      "text/plain": [
       "Counter({'a': 1, 's': 1, 'd': 1, 'f': 1})"
      ]
     },
     "execution_count": 101,
     "metadata": {},
     "output_type": "execute_result"
    }
   ],
   "source": [
    "from collections import Counter\n",
    "c = Counter('asdf')\n",
    "c"
   ]
  },
  {
   "cell_type": "code",
   "execution_count": 104,
   "id": "6562b2a9",
   "metadata": {},
   "outputs": [
    {
     "data": {
      "text/plain": [
       "Counter({'A': 1, 'G': 1, 'C': 1})"
      ]
     },
     "execution_count": 104,
     "metadata": {},
     "output_type": "execute_result"
    }
   ],
   "source": [
    "Counter('AGC')"
   ]
  },
  {
   "cell_type": "code",
   "execution_count": null,
   "id": "ba4fda98",
   "metadata": {},
   "outputs": [],
   "source": [
    "'AAA', 'ACC', 'ACG', 'ACT'"
   ]
  },
  {
   "cell_type": "code",
   "execution_count": 105,
   "id": "95ec0808",
   "metadata": {},
   "outputs": [
    {
     "name": "stdout",
     "output_type": "stream",
     "text": [
      "Counter({'A': 3})\n",
      "Counter({'C': 2, 'A': 1})\n",
      "Counter({'A': 1, 'C': 1, 'G': 1})\n",
      "Counter({'A': 1, 'C': 1, 'T': 1})\n"
     ]
    }
   ],
   "source": [
    "a = Counter('AAA')\n",
    "print(a)\n",
    "b = Counter('ACC')\n",
    "print(b)\n",
    "c = Counter('ACG')\n",
    "print(c)\n",
    "d = Counter('ACT')\n",
    "print(d)"
   ]
  },
  {
   "cell_type": "code",
   "execution_count": 81,
   "id": "71824c56",
   "metadata": {},
   "outputs": [
    {
     "data": {
      "text/plain": [
       "array([list(['A', 'C', 'C'])], dtype=object)"
      ]
     },
     "execution_count": 81,
     "metadata": {},
     "output_type": "execute_result"
    }
   ],
   "source": [
    "np.array(nested_list, dtype = 'object').reshape(8,1)"
   ]
  },
  {
   "cell_type": "code",
   "execution_count": 58,
   "id": "9e8c2777",
   "metadata": {},
   "outputs": [
    {
     "data": {
      "text/plain": [
       "array([[list(['A', 'A', 'A']), list(['A', 'A', 'A', '-'])],\n",
       "       [list(['A', 'C', 'C']), list(['A', '-', 'C', 'C'])],\n",
       "       [list(['A', 'C', 'G']), list(['A', 'C', 'G', '-'])],\n",
       "       [list(['A', 'C', 'T']), list(['A', '-', 'C', 'T'])]], dtype=object)"
      ]
     },
     "execution_count": 58,
     "metadata": {},
     "output_type": "execute_result"
    }
   ],
   "source": [
    "np.array(nested_list, dtype = 'object').T"
   ]
  },
  {
   "cell_type": "code",
   "execution_count": 18,
   "id": "5a5a345b",
   "metadata": {},
   "outputs": [
    {
     "name": "stdout",
     "output_type": "stream",
     "text": [
      "<re.Match object; span=(0, 3), match='AAA'>\n",
      "<re.Match object; span=(0, 3), match='ACC'>\n",
      "<re.Match object; span=(0, 3), match='ACG'>\n",
      "<re.Match object; span=(0, 3), match='ACT'>\n",
      "None\n",
      "<re.Match object; span=(0, 3), match='AAA'>\n",
      "<re.Match object; span=(0, 1), match='A'>\n",
      "<re.Match object; span=(0, 3), match='ACG'>\n",
      "<re.Match object; span=(0, 1), match='A'>\n"
     ]
    }
   ],
   "source": [
    "for i in range(len(seqs)):\n",
    "    print(re.match('^[A-Z]+|^-|^[a-z]', seqs[i]))"
   ]
  },
  {
   "cell_type": "code",
   "execution_count": 32,
   "id": "5fafd218",
   "metadata": {},
   "outputs": [
    {
     "data": {
      "text/plain": [
       "array(['AAA', 'ACC', 'ACG', 'ACT', '#', 'AAA-', 'A-CC', 'ACG-', 'A-CT'],\n",
       "      dtype=object)"
      ]
     },
     "execution_count": 32,
     "metadata": {},
     "output_type": "execute_result"
    }
   ],
   "source": [
    "with open('test1.txt', 'r') as file:\n",
    "    a = np.array([elem.strip() for elem in file.readlines()], dtype = 'object')\n",
    "    \n",
    "a"
   ]
  },
  {
   "cell_type": "code",
   "execution_count": 37,
   "id": "e609fcec",
   "metadata": {},
   "outputs": [
    {
     "data": {
      "text/plain": [
       "array([ True,  True,  True,  True, False,  True,  True,  True,  True])"
      ]
     },
     "execution_count": 37,
     "metadata": {},
     "output_type": "execute_result"
    }
   ],
   "source": [
    "def array_regex(i):\n",
    "    return np.array([True if re.match('[^#]', i) else False])\n",
    "\n",
    "ar = np.vectorize(array_regex)\n",
    "\n",
    "c = ar(a)\n",
    "c"
   ]
  },
  {
   "cell_type": "code",
   "execution_count": 35,
   "id": "360eb778",
   "metadata": {},
   "outputs": [
    {
     "ename": "ValueError",
     "evalue": "either both or neither of x and y should be given",
     "output_type": "error",
     "traceback": [
      "\u001b[1;31m---------------------------------------------------------------------------\u001b[0m",
      "\u001b[1;31mValueError\u001b[0m                                Traceback (most recent call last)",
      "Cell \u001b[1;32mIn[35], line 7\u001b[0m\n\u001b[0;32m      3\u001b[0m     \u001b[38;5;28;01mreturn\u001b[39;00m np\u001b[38;5;241m.\u001b[39mwhere(\u001b[38;5;28;01mTrue\u001b[39;00m, b)\n\u001b[0;32m      5\u001b[0m ar \u001b[38;5;241m=\u001b[39m np\u001b[38;5;241m.\u001b[39mvectorize(array_regex)\n\u001b[1;32m----> 7\u001b[0m c \u001b[38;5;241m=\u001b[39m \u001b[43mar\u001b[49m\u001b[43m(\u001b[49m\u001b[43ma\u001b[49m\u001b[43m)\u001b[49m\n",
      "File \u001b[1;32m~\\anaconda3\\envs\\tf2\\lib\\site-packages\\numpy\\lib\\function_base.py:2328\u001b[0m, in \u001b[0;36mvectorize.__call__\u001b[1;34m(self, *args, **kwargs)\u001b[0m\n\u001b[0;32m   2325\u001b[0m     vargs \u001b[38;5;241m=\u001b[39m [args[_i] \u001b[38;5;28;01mfor\u001b[39;00m _i \u001b[38;5;129;01min\u001b[39;00m inds]\n\u001b[0;32m   2326\u001b[0m     vargs\u001b[38;5;241m.\u001b[39mextend([kwargs[_n] \u001b[38;5;28;01mfor\u001b[39;00m _n \u001b[38;5;129;01min\u001b[39;00m names])\n\u001b[1;32m-> 2328\u001b[0m \u001b[38;5;28;01mreturn\u001b[39;00m \u001b[38;5;28;43mself\u001b[39;49m\u001b[38;5;241;43m.\u001b[39;49m\u001b[43m_vectorize_call\u001b[49m\u001b[43m(\u001b[49m\u001b[43mfunc\u001b[49m\u001b[38;5;241;43m=\u001b[39;49m\u001b[43mfunc\u001b[49m\u001b[43m,\u001b[49m\u001b[43m \u001b[49m\u001b[43margs\u001b[49m\u001b[38;5;241;43m=\u001b[39;49m\u001b[43mvargs\u001b[49m\u001b[43m)\u001b[49m\n",
      "File \u001b[1;32m~\\anaconda3\\envs\\tf2\\lib\\site-packages\\numpy\\lib\\function_base.py:2406\u001b[0m, in \u001b[0;36mvectorize._vectorize_call\u001b[1;34m(self, func, args)\u001b[0m\n\u001b[0;32m   2404\u001b[0m     res \u001b[38;5;241m=\u001b[39m func()\n\u001b[0;32m   2405\u001b[0m \u001b[38;5;28;01melse\u001b[39;00m:\n\u001b[1;32m-> 2406\u001b[0m     ufunc, otypes \u001b[38;5;241m=\u001b[39m \u001b[38;5;28;43mself\u001b[39;49m\u001b[38;5;241;43m.\u001b[39;49m\u001b[43m_get_ufunc_and_otypes\u001b[49m\u001b[43m(\u001b[49m\u001b[43mfunc\u001b[49m\u001b[38;5;241;43m=\u001b[39;49m\u001b[43mfunc\u001b[49m\u001b[43m,\u001b[49m\u001b[43m \u001b[49m\u001b[43margs\u001b[49m\u001b[38;5;241;43m=\u001b[39;49m\u001b[43margs\u001b[49m\u001b[43m)\u001b[49m\n\u001b[0;32m   2408\u001b[0m     \u001b[38;5;66;03m# Convert args to object arrays first\u001b[39;00m\n\u001b[0;32m   2409\u001b[0m     inputs \u001b[38;5;241m=\u001b[39m [asanyarray(a, dtype\u001b[38;5;241m=\u001b[39m\u001b[38;5;28mobject\u001b[39m) \u001b[38;5;28;01mfor\u001b[39;00m a \u001b[38;5;129;01min\u001b[39;00m args]\n",
      "File \u001b[1;32m~\\anaconda3\\envs\\tf2\\lib\\site-packages\\numpy\\lib\\function_base.py:2366\u001b[0m, in \u001b[0;36mvectorize._get_ufunc_and_otypes\u001b[1;34m(self, func, args)\u001b[0m\n\u001b[0;32m   2362\u001b[0m     \u001b[38;5;28;01mraise\u001b[39;00m \u001b[38;5;167;01mValueError\u001b[39;00m(\u001b[38;5;124m'\u001b[39m\u001b[38;5;124mcannot call `vectorize` on size 0 inputs \u001b[39m\u001b[38;5;124m'\u001b[39m\n\u001b[0;32m   2363\u001b[0m                      \u001b[38;5;124m'\u001b[39m\u001b[38;5;124munless `otypes` is set\u001b[39m\u001b[38;5;124m'\u001b[39m)\n\u001b[0;32m   2365\u001b[0m inputs \u001b[38;5;241m=\u001b[39m [arg\u001b[38;5;241m.\u001b[39mflat[\u001b[38;5;241m0\u001b[39m] \u001b[38;5;28;01mfor\u001b[39;00m arg \u001b[38;5;129;01min\u001b[39;00m args]\n\u001b[1;32m-> 2366\u001b[0m outputs \u001b[38;5;241m=\u001b[39m \u001b[43mfunc\u001b[49m\u001b[43m(\u001b[49m\u001b[38;5;241;43m*\u001b[39;49m\u001b[43minputs\u001b[49m\u001b[43m)\u001b[49m\n\u001b[0;32m   2368\u001b[0m \u001b[38;5;66;03m# Performance note: profiling indicates that -- for simple\u001b[39;00m\n\u001b[0;32m   2369\u001b[0m \u001b[38;5;66;03m# functions at least -- this wrapping can almost double the\u001b[39;00m\n\u001b[0;32m   2370\u001b[0m \u001b[38;5;66;03m# execution time.\u001b[39;00m\n\u001b[0;32m   2371\u001b[0m \u001b[38;5;66;03m# Hence we make it optional.\u001b[39;00m\n\u001b[0;32m   2372\u001b[0m \u001b[38;5;28;01mif\u001b[39;00m \u001b[38;5;28mself\u001b[39m\u001b[38;5;241m.\u001b[39mcache:\n",
      "Cell \u001b[1;32mIn[35], line 3\u001b[0m, in \u001b[0;36marray_regex\u001b[1;34m(i)\u001b[0m\n\u001b[0;32m      1\u001b[0m \u001b[38;5;28;01mdef\u001b[39;00m \u001b[38;5;21marray_regex\u001b[39m(i):\n\u001b[0;32m      2\u001b[0m     b \u001b[38;5;241m=\u001b[39m np\u001b[38;5;241m.\u001b[39marray([\u001b[38;5;28;01mTrue\u001b[39;00m \u001b[38;5;28;01mif\u001b[39;00m re\u001b[38;5;241m.\u001b[39mmatch(\u001b[38;5;124m'\u001b[39m\u001b[38;5;124m[^#]\u001b[39m\u001b[38;5;124m'\u001b[39m, i) \u001b[38;5;28;01melse\u001b[39;00m \u001b[38;5;28;01mFalse\u001b[39;00m])\n\u001b[1;32m----> 3\u001b[0m     \u001b[38;5;28;01mreturn\u001b[39;00m \u001b[43mnp\u001b[49m\u001b[38;5;241;43m.\u001b[39;49m\u001b[43mwhere\u001b[49m\u001b[43m(\u001b[49m\u001b[38;5;28;43;01mTrue\u001b[39;49;00m\u001b[43m,\u001b[49m\u001b[43m \u001b[49m\u001b[43mb\u001b[49m\u001b[43m)\u001b[49m\n",
      "File \u001b[1;32m<__array_function__ internals>:180\u001b[0m, in \u001b[0;36mwhere\u001b[1;34m(*args, **kwargs)\u001b[0m\n",
      "\u001b[1;31mValueError\u001b[0m: either both or neither of x and y should be given"
     ]
    }
   ],
   "source": [
    "def array_regex(i):\n",
    "    b = np.array([True if re.match('[^#]', i) else False])\n",
    "    return np.where(True, b)\n",
    "\n",
    "ar = np.vectorize(array_regex)\n",
    "\n",
    "c = ar(a)"
   ]
  }
 ],
 "metadata": {
  "kernelspec": {
   "display_name": "Python 3 (ipykernel)",
   "language": "python",
   "name": "python3"
  },
  "language_info": {
   "codemirror_mode": {
    "name": "ipython",
    "version": 3
   },
   "file_extension": ".py",
   "mimetype": "text/x-python",
   "name": "python",
   "nbconvert_exporter": "python",
   "pygments_lexer": "ipython3",
   "version": "3.10.9"
  }
 },
 "nbformat": 4,
 "nbformat_minor": 5
}
