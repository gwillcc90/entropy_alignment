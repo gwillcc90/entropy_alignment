{
 "cells": [
  {
   "cell_type": "code",
   "execution_count": 23,
   "id": "c2206d06",
   "metadata": {},
   "outputs": [],
   "source": [
    "s = 'ABCD'\n",
    "s2 = '-asdfABCD'\n",
    "s3 = '#'\n",
    "s4 = 'abcd-'\n",
    "s5 = 'ABD-'"
   ]
  },
  {
   "cell_type": "code",
   "execution_count": 106,
   "id": "dfb65e97",
   "metadata": {},
   "outputs": [],
   "source": [
    "import re\n",
    "from icecream import ic"
   ]
  },
  {
   "cell_type": "code",
   "execution_count": 25,
   "id": "d765aef9",
   "metadata": {},
   "outputs": [
    {
     "name": "stdout",
     "output_type": "stream",
     "text": [
      "<re.Match object; span=(0, 2), match='-a'>\n"
     ]
    }
   ],
   "source": [
    "print(re.match('[A-Z]*[a-z]+|-[a-z][A-Z]*-*', s2))"
   ]
  },
  {
   "cell_type": "code",
   "execution_count": 26,
   "id": "22e4a47d",
   "metadata": {},
   "outputs": [
    {
     "name": "stdout",
     "output_type": "stream",
     "text": [
      "<re.Match object; span=(0, 4), match='ABCD'>\n",
      "<re.Match object; span=(0, 0), match=''>\n",
      "<re.Match object; span=(0, 0), match=''>\n",
      "<re.Match object; span=(0, 4), match='abcd'>\n",
      "<re.Match object; span=(0, 3), match='ABD'>\n"
     ]
    }
   ],
   "source": [
    "for elem in [s, s2, s3, s4, s5]:\n",
    "    print(re.match('[A-Z]*[a-z]*|-[a-z][A-Z]*-*', elem))"
   ]
  },
  {
   "cell_type": "code",
   "execution_count": 27,
   "id": "277290be",
   "metadata": {},
   "outputs": [
    {
     "name": "stdout",
     "output_type": "stream",
     "text": [
      "<re.Match object; span=(0, 4), match='ABCD'>\n",
      "<re.Match object; span=(0, 1), match='-'>\n",
      "None\n",
      "<re.Match object; span=(0, 1), match='a'>\n",
      "<re.Match object; span=(0, 3), match='ABD'>\n"
     ]
    }
   ],
   "source": [
    "for elem in [s, s2, s3, s4, s5]:\n",
    "    print(re.match('^[A-Z]+|^-|^[a-z]', elem))"
   ]
  },
  {
   "cell_type": "code",
   "execution_count": 28,
   "id": "5e59b437",
   "metadata": {},
   "outputs": [
    {
     "name": "stdout",
     "output_type": "stream",
     "text": [
      "<re.Match object; span=(0, 1), match='A'>\n",
      "<re.Match object; span=(0, 1), match='-'>\n",
      "None\n",
      "<re.Match object; span=(0, 1), match='a'>\n",
      "<re.Match object; span=(0, 1), match='A'>\n"
     ]
    }
   ],
   "source": [
    "for elem in [s, s2, s3, s4, s5]:\n",
    "    print(re.match('[^#]', elem))"
   ]
  },
  {
   "cell_type": "code",
   "execution_count": 29,
   "id": "31153b19",
   "metadata": {},
   "outputs": [],
   "source": [
    "# comment for recommit"
   ]
  },
  {
   "cell_type": "code",
   "execution_count": 30,
   "id": "a9dffa61",
   "metadata": {},
   "outputs": [],
   "source": [
    "import numpy as np"
   ]
  },
  {
   "cell_type": "code",
   "execution_count": 143,
   "id": "53bac833",
   "metadata": {},
   "outputs": [
    {
     "name": "stderr",
     "output_type": "stream",
     "text": [
      "ic| read_alignment(): ['AAA', 'ACC', 'ACG', 'ACT', '#', 'AAA-', 'A-CC', 'ACG-', 'A-CT']\n"
     ]
    }
   ],
   "source": [
    "def read_alignment(filename: str = 'test1.txt') -> list:\n",
    "    '''\n",
    "    DESCR\n",
    "    -----\n",
    "    Read in sequence alignment(s). \n",
    "    Entire file is line-by-line into a list object and stripped of whitespace.\n",
    "    List will have representation of some row-wise separator in case of multiple alignments.\n",
    "    \n",
    "    ARGS\n",
    "    -----\n",
    "    filename: name of file\n",
    "    \n",
    "    RETURNS\n",
    "    --------\n",
    "    list of alignments separated by any separator (if applicable).\n",
    "    '''\n",
    "    with open(filename, 'r') as file:\n",
    "        return [elem.strip() for elem in file.readlines()]\n",
    "    \n",
    "    '''\n",
    "    with open(filename, 'r') as file:\n",
    "        return [[*elem.strip()] for elem in file.readlines()]\n",
    "    '''\n",
    "\n",
    "\n",
    "ic(read_alignment());\n",
    "\n",
    "\n",
    "def is_comparable():\n",
    "    '''\n",
    "    DESCR\n",
    "    ------\n",
    "    Checks to see if multiple alignments exist within an object \n",
    "    '''\n",
    "    pass\n",
    "\n",
    "alignments = read_alignment()\n",
    "\n",
    "def columnarize(alignments: list) -> list:\n",
    "    return [[*elem] for elem in alignments]"
   ]
  },
  {
   "cell_type": "code",
   "execution_count": 139,
   "id": "fd75334d",
   "metadata": {},
   "outputs": [
    {
     "data": {
      "text/plain": [
       "[['A', 'A', 'A'],\n",
       " ['A', 'C', 'C'],\n",
       " ['A', 'C', 'G'],\n",
       " ['A', 'C', 'T'],\n",
       " ['#'],\n",
       " ['A', 'A', 'A', '-'],\n",
       " ['A', '-', 'C', 'C'],\n",
       " ['A', 'C', 'G', '-'],\n",
       " ['A', '-', 'C', 'T']]"
      ]
     },
     "execution_count": 139,
     "metadata": {},
     "output_type": "execute_result"
    }
   ],
   "source": [
    "[[*elem] for elem in alignments]"
   ]
  },
  {
   "cell_type": "code",
   "execution_count": 109,
   "id": "07585cf3",
   "metadata": {},
   "outputs": [
    {
     "name": "stderr",
     "output_type": "stream",
     "text": [
      "ic| seqs: ['AAA', 'ACC', 'ACG', 'ACT', '', 'AAA-', 'A-CC', 'ACG-', 'A-CT']\n",
      "ic| temp_list: [['A', 'A', 'A']]\n",
      "ic| temp_list: [['A', 'A', 'A'], ['A', 'C', 'C']]\n",
      "ic| temp_list: [['A', 'A', 'A'], ['A', 'C', 'C'], ['A', 'C', 'G']]\n",
      "ic| temp_list: [['A', 'A', 'A'], ['A', 'C', 'C'], ['A', 'C', 'G'], ['A', 'C', 'T']]\n",
      "ic| nested_list: [[['A', 'A', 'A'], ['A', 'C', 'C'], ['A', 'C', 'G'], ['A', 'C', 'T']]]\n",
      "ic| temp_list: []\n",
      "ic| temp_list: [['A', 'A', 'A', '-']]\n",
      "ic| temp_list: [['A', 'A', 'A', '-'], ['A', '-', 'C', 'C']]\n",
      "ic| temp_list: [['A', 'A', 'A', '-'], ['A', '-', 'C', 'C'], ['A', 'C', 'G', '-']]\n",
      "ic| temp_list: [['A', 'A', 'A', '-'],\n",
      "                ['A', '-', 'C', 'C'],\n",
      "                ['A', 'C', 'G', '-'],\n",
      "                ['A', '-', 'C', 'T']]\n"
     ]
    }
   ],
   "source": [
    "nested_list = list()\n",
    "temp_list = list()\n",
    "\n",
    "for i in range(len(seqs)):\n",
    "    if re.match('^[A-Z]+|^-|^[a-z]', seqs[i]):\n",
    "        temp_list.append([*seqs[i]])\n",
    "        ic(temp_list)\n",
    "    else:\n",
    "        nested_list.append(temp_list)\n",
    "        ic(nested_list)\n",
    "        temp_list = list()\n",
    "        ic(temp_list)\n",
    "        \n",
    "nested_list.append(temp_list)"
   ]
  },
  {
   "cell_type": "code",
   "execution_count": 91,
   "id": "ac76dd56",
   "metadata": {},
   "outputs": [
    {
     "data": {
      "text/plain": [
       "range(0, 4)"
      ]
     },
     "execution_count": 91,
     "metadata": {},
     "output_type": "execute_result"
    }
   ],
   "source": [
    "range(len(nested_list[0]))"
   ]
  },
  {
   "cell_type": "code",
   "execution_count": 96,
   "id": "86171c2f",
   "metadata": {},
   "outputs": [
    {
     "name": "stdout",
     "output_type": "stream",
     "text": [
      "A\n",
      "A\n",
      "A\n",
      "A\n"
     ]
    }
   ],
   "source": [
    "temp = ''\n",
    "for i in range(len(nested_list[0])):\n",
    "    print(nested_list[0][i][0])\n",
    "    temp += nested_list[0][i][0]"
   ]
  },
  {
   "cell_type": "code",
   "execution_count": 97,
   "id": "06926bfa",
   "metadata": {},
   "outputs": [
    {
     "data": {
      "text/plain": [
       "'AAAA'"
      ]
     },
     "execution_count": 97,
     "metadata": {},
     "output_type": "execute_result"
    }
   ],
   "source": [
    "temp"
   ]
  },
  {
   "cell_type": "code",
   "execution_count": 101,
   "id": "7c33d30d",
   "metadata": {},
   "outputs": [
    {
     "data": {
      "text/plain": [
       "Counter({'a': 1, 's': 1, 'd': 1, 'f': 1})"
      ]
     },
     "execution_count": 101,
     "metadata": {},
     "output_type": "execute_result"
    }
   ],
   "source": [
    "from collections import Counter\n",
    "c = Counter('asdf')\n",
    "c"
   ]
  },
  {
   "cell_type": "code",
   "execution_count": 104,
   "id": "fca69d4a",
   "metadata": {},
   "outputs": [
    {
     "data": {
      "text/plain": [
       "Counter({'A': 1, 'G': 1, 'C': 1})"
      ]
     },
     "execution_count": 104,
     "metadata": {},
     "output_type": "execute_result"
    }
   ],
   "source": [
    "Counter('AGC')"
   ]
  },
  {
   "cell_type": "code",
   "execution_count": null,
   "id": "6f823ae1",
   "metadata": {},
   "outputs": [],
   "source": [
    "'AAA', 'ACC', 'ACG', 'ACT'"
   ]
  },
  {
   "cell_type": "code",
   "execution_count": 105,
   "id": "4e6b1101",
   "metadata": {},
   "outputs": [
    {
     "name": "stdout",
     "output_type": "stream",
     "text": [
      "Counter({'A': 3})\n",
      "Counter({'C': 2, 'A': 1})\n",
      "Counter({'A': 1, 'C': 1, 'G': 1})\n",
      "Counter({'A': 1, 'C': 1, 'T': 1})\n"
     ]
    }
   ],
   "source": [
    "a = Counter('AAA')\n",
    "print(a)\n",
    "b = Counter('ACC')\n",
    "print(b)\n",
    "c = Counter('ACG')\n",
    "print(c)\n",
    "d = Counter('ACT')\n",
    "print(d)"
   ]
  },
  {
   "cell_type": "code",
   "execution_count": 81,
   "id": "71824c56",
   "metadata": {},
   "outputs": [
    {
     "data": {
      "text/plain": [
       "array([list(['A', 'C', 'C'])], dtype=object)"
      ]
     },
     "execution_count": 81,
     "metadata": {},
     "output_type": "execute_result"
    }
   ],
   "source": [
    "np.array(nested_list, dtype = 'object').reshape(8,1)"
   ]
  },
  {
   "cell_type": "code",
   "execution_count": 58,
   "id": "9e8c2777",
   "metadata": {},
   "outputs": [
    {
     "data": {
      "text/plain": [
       "array([[list(['A', 'A', 'A']), list(['A', 'A', 'A', '-'])],\n",
       "       [list(['A', 'C', 'C']), list(['A', '-', 'C', 'C'])],\n",
       "       [list(['A', 'C', 'G']), list(['A', 'C', 'G', '-'])],\n",
       "       [list(['A', 'C', 'T']), list(['A', '-', 'C', 'T'])]], dtype=object)"
      ]
     },
     "execution_count": 58,
     "metadata": {},
     "output_type": "execute_result"
    }
   ],
   "source": [
    "np.array(nested_list, dtype = 'object').T"
   ]
  },
  {
   "cell_type": "code",
   "execution_count": 18,
   "id": "5a5a345b",
   "metadata": {},
   "outputs": [
    {
     "name": "stdout",
     "output_type": "stream",
     "text": [
      "<re.Match object; span=(0, 3), match='AAA'>\n",
      "<re.Match object; span=(0, 3), match='ACC'>\n",
      "<re.Match object; span=(0, 3), match='ACG'>\n",
      "<re.Match object; span=(0, 3), match='ACT'>\n",
      "None\n",
      "<re.Match object; span=(0, 3), match='AAA'>\n",
      "<re.Match object; span=(0, 1), match='A'>\n",
      "<re.Match object; span=(0, 3), match='ACG'>\n",
      "<re.Match object; span=(0, 1), match='A'>\n"
     ]
    }
   ],
   "source": [
    "for i in range(len(seqs)):\n",
    "    print(re.match('^[A-Z]+|^-|^[a-z]', seqs[i]))"
   ]
  },
  {
   "cell_type": "code",
   "execution_count": 77,
   "id": "7a0c442f",
   "metadata": {},
   "outputs": [
    {
     "data": {
      "text/plain": [
       "['AAA', 'ACC', 'ACG', 'ACT', '#', 'AAA-', 'A-CC', 'ACG-', 'A-CT']"
      ]
     },
     "execution_count": 77,
     "metadata": {},
     "output_type": "execute_result"
    }
   ],
   "source": [
    "a = list(map(str.strip, a))\n",
    "a"
   ]
  },
  {
   "cell_type": "code",
   "execution_count": 102,
   "id": "29bd72d5",
   "metadata": {},
   "outputs": [
    {
     "data": {
      "text/plain": [
       "array([['AAA', 'ACC', 'ACG', 'ACT']], dtype='<U3')"
      ]
     },
     "execution_count": 102,
     "metadata": {},
     "output_type": "execute_result"
    }
   ],
   "source": []
  },
  {
   "cell_type": "code",
   "execution_count": 100,
   "id": "985ea1ea",
   "metadata": {},
   "outputs": [
    {
     "data": {
      "text/plain": [
       "'AAA'"
      ]
     },
     "execution_count": 100,
     "metadata": {},
     "output_type": "execute_result"
    }
   ],
   "source": [
    "c[0][0]"
   ]
  },
  {
   "cell_type": "code",
   "execution_count": 30,
   "id": "b51b4716",
   "metadata": {},
   "outputs": [
    {
     "name": "stdout",
     "output_type": "stream",
     "text": [
      "AAA\n",
      "\n",
      "ACC\n",
      "\n",
      "ACG\n",
      "\n",
      "ACT\n",
      "\n",
      "None\n",
      "AAA-\n",
      "\n",
      "A-CC\n",
      "\n",
      "ACG-\n",
      "\n",
      "A-CT\n",
      "\n"
     ]
    }
   ],
   "source": [
    "for i in a:\n",
    "    print(i if re.match('[^#]', i) else None)"
   ]
  },
  {
   "cell_type": "code",
   "execution_count": 32,
   "id": "5fafd218",
   "metadata": {},
   "outputs": [
    {
     "data": {
      "text/plain": [
       "array(['AAA', 'ACC', 'ACG', 'ACT', '#', 'AAA-', 'A-CC', 'ACG-', 'A-CT'],\n",
       "      dtype=object)"
      ]
     },
     "execution_count": 32,
     "metadata": {},
     "output_type": "execute_result"
    }
   ],
   "source": [
    "with open('test1.txt', 'r') as file:\n",
    "    a = np.array([elem.strip() for elem in file.readlines()], dtype = 'object')\n",
    "    \n",
    "a"
   ]
  },
  {
   "cell_type": "code",
   "execution_count": 37,
   "id": "e609fcec",
   "metadata": {},
   "outputs": [
    {
     "data": {
      "text/plain": [
       "array([ True,  True,  True,  True, False,  True,  True,  True,  True])"
      ]
     },
     "execution_count": 37,
     "metadata": {},
     "output_type": "execute_result"
    }
   ],
   "source": [
    "def array_regex(i):\n",
    "    return np.array([True if re.match('[^#]', i) else False])\n",
    "\n",
    "ar = np.vectorize(array_regex)\n",
    "\n",
    "c = ar(a)\n",
    "c"
   ]
  },
  {
   "cell_type": "code",
   "execution_count": 35,
   "id": "360eb778",
   "metadata": {},
   "outputs": [
    {
     "ename": "ValueError",
     "evalue": "either both or neither of x and y should be given",
     "output_type": "error",
     "traceback": [
      "\u001b[1;31m---------------------------------------------------------------------------\u001b[0m",
      "\u001b[1;31mValueError\u001b[0m                                Traceback (most recent call last)",
      "Cell \u001b[1;32mIn[35], line 7\u001b[0m\n\u001b[0;32m      3\u001b[0m     \u001b[38;5;28;01mreturn\u001b[39;00m np\u001b[38;5;241m.\u001b[39mwhere(\u001b[38;5;28;01mTrue\u001b[39;00m, b)\n\u001b[0;32m      5\u001b[0m ar \u001b[38;5;241m=\u001b[39m np\u001b[38;5;241m.\u001b[39mvectorize(array_regex)\n\u001b[1;32m----> 7\u001b[0m c \u001b[38;5;241m=\u001b[39m \u001b[43mar\u001b[49m\u001b[43m(\u001b[49m\u001b[43ma\u001b[49m\u001b[43m)\u001b[49m\n",
      "File \u001b[1;32m~\\anaconda3\\envs\\tf2\\lib\\site-packages\\numpy\\lib\\function_base.py:2328\u001b[0m, in \u001b[0;36mvectorize.__call__\u001b[1;34m(self, *args, **kwargs)\u001b[0m\n\u001b[0;32m   2325\u001b[0m     vargs \u001b[38;5;241m=\u001b[39m [args[_i] \u001b[38;5;28;01mfor\u001b[39;00m _i \u001b[38;5;129;01min\u001b[39;00m inds]\n\u001b[0;32m   2326\u001b[0m     vargs\u001b[38;5;241m.\u001b[39mextend([kwargs[_n] \u001b[38;5;28;01mfor\u001b[39;00m _n \u001b[38;5;129;01min\u001b[39;00m names])\n\u001b[1;32m-> 2328\u001b[0m \u001b[38;5;28;01mreturn\u001b[39;00m \u001b[38;5;28;43mself\u001b[39;49m\u001b[38;5;241;43m.\u001b[39;49m\u001b[43m_vectorize_call\u001b[49m\u001b[43m(\u001b[49m\u001b[43mfunc\u001b[49m\u001b[38;5;241;43m=\u001b[39;49m\u001b[43mfunc\u001b[49m\u001b[43m,\u001b[49m\u001b[43m \u001b[49m\u001b[43margs\u001b[49m\u001b[38;5;241;43m=\u001b[39;49m\u001b[43mvargs\u001b[49m\u001b[43m)\u001b[49m\n",
      "File \u001b[1;32m~\\anaconda3\\envs\\tf2\\lib\\site-packages\\numpy\\lib\\function_base.py:2406\u001b[0m, in \u001b[0;36mvectorize._vectorize_call\u001b[1;34m(self, func, args)\u001b[0m\n\u001b[0;32m   2404\u001b[0m     res \u001b[38;5;241m=\u001b[39m func()\n\u001b[0;32m   2405\u001b[0m \u001b[38;5;28;01melse\u001b[39;00m:\n\u001b[1;32m-> 2406\u001b[0m     ufunc, otypes \u001b[38;5;241m=\u001b[39m \u001b[38;5;28;43mself\u001b[39;49m\u001b[38;5;241;43m.\u001b[39;49m\u001b[43m_get_ufunc_and_otypes\u001b[49m\u001b[43m(\u001b[49m\u001b[43mfunc\u001b[49m\u001b[38;5;241;43m=\u001b[39;49m\u001b[43mfunc\u001b[49m\u001b[43m,\u001b[49m\u001b[43m \u001b[49m\u001b[43margs\u001b[49m\u001b[38;5;241;43m=\u001b[39;49m\u001b[43margs\u001b[49m\u001b[43m)\u001b[49m\n\u001b[0;32m   2408\u001b[0m     \u001b[38;5;66;03m# Convert args to object arrays first\u001b[39;00m\n\u001b[0;32m   2409\u001b[0m     inputs \u001b[38;5;241m=\u001b[39m [asanyarray(a, dtype\u001b[38;5;241m=\u001b[39m\u001b[38;5;28mobject\u001b[39m) \u001b[38;5;28;01mfor\u001b[39;00m a \u001b[38;5;129;01min\u001b[39;00m args]\n",
      "File \u001b[1;32m~\\anaconda3\\envs\\tf2\\lib\\site-packages\\numpy\\lib\\function_base.py:2366\u001b[0m, in \u001b[0;36mvectorize._get_ufunc_and_otypes\u001b[1;34m(self, func, args)\u001b[0m\n\u001b[0;32m   2362\u001b[0m     \u001b[38;5;28;01mraise\u001b[39;00m \u001b[38;5;167;01mValueError\u001b[39;00m(\u001b[38;5;124m'\u001b[39m\u001b[38;5;124mcannot call `vectorize` on size 0 inputs \u001b[39m\u001b[38;5;124m'\u001b[39m\n\u001b[0;32m   2363\u001b[0m                      \u001b[38;5;124m'\u001b[39m\u001b[38;5;124munless `otypes` is set\u001b[39m\u001b[38;5;124m'\u001b[39m)\n\u001b[0;32m   2365\u001b[0m inputs \u001b[38;5;241m=\u001b[39m [arg\u001b[38;5;241m.\u001b[39mflat[\u001b[38;5;241m0\u001b[39m] \u001b[38;5;28;01mfor\u001b[39;00m arg \u001b[38;5;129;01min\u001b[39;00m args]\n\u001b[1;32m-> 2366\u001b[0m outputs \u001b[38;5;241m=\u001b[39m \u001b[43mfunc\u001b[49m\u001b[43m(\u001b[49m\u001b[38;5;241;43m*\u001b[39;49m\u001b[43minputs\u001b[49m\u001b[43m)\u001b[49m\n\u001b[0;32m   2368\u001b[0m \u001b[38;5;66;03m# Performance note: profiling indicates that -- for simple\u001b[39;00m\n\u001b[0;32m   2369\u001b[0m \u001b[38;5;66;03m# functions at least -- this wrapping can almost double the\u001b[39;00m\n\u001b[0;32m   2370\u001b[0m \u001b[38;5;66;03m# execution time.\u001b[39;00m\n\u001b[0;32m   2371\u001b[0m \u001b[38;5;66;03m# Hence we make it optional.\u001b[39;00m\n\u001b[0;32m   2372\u001b[0m \u001b[38;5;28;01mif\u001b[39;00m \u001b[38;5;28mself\u001b[39m\u001b[38;5;241m.\u001b[39mcache:\n",
      "Cell \u001b[1;32mIn[35], line 3\u001b[0m, in \u001b[0;36marray_regex\u001b[1;34m(i)\u001b[0m\n\u001b[0;32m      1\u001b[0m \u001b[38;5;28;01mdef\u001b[39;00m \u001b[38;5;21marray_regex\u001b[39m(i):\n\u001b[0;32m      2\u001b[0m     b \u001b[38;5;241m=\u001b[39m np\u001b[38;5;241m.\u001b[39marray([\u001b[38;5;28;01mTrue\u001b[39;00m \u001b[38;5;28;01mif\u001b[39;00m re\u001b[38;5;241m.\u001b[39mmatch(\u001b[38;5;124m'\u001b[39m\u001b[38;5;124m[^#]\u001b[39m\u001b[38;5;124m'\u001b[39m, i) \u001b[38;5;28;01melse\u001b[39;00m \u001b[38;5;28;01mFalse\u001b[39;00m])\n\u001b[1;32m----> 3\u001b[0m     \u001b[38;5;28;01mreturn\u001b[39;00m \u001b[43mnp\u001b[49m\u001b[38;5;241;43m.\u001b[39;49m\u001b[43mwhere\u001b[49m\u001b[43m(\u001b[49m\u001b[38;5;28;43;01mTrue\u001b[39;49;00m\u001b[43m,\u001b[49m\u001b[43m \u001b[49m\u001b[43mb\u001b[49m\u001b[43m)\u001b[49m\n",
      "File \u001b[1;32m<__array_function__ internals>:180\u001b[0m, in \u001b[0;36mwhere\u001b[1;34m(*args, **kwargs)\u001b[0m\n",
      "\u001b[1;31mValueError\u001b[0m: either both or neither of x and y should be given"
     ]
    }
   ],
   "source": [
    "def array_regex(i):\n",
    "    b = np.array([True if re.match('[^#]', i) else False])\n",
    "    return np.where(True, b)\n",
    "\n",
    "ar = np.vectorize(array_regex)\n",
    "\n",
    "c = ar(a)"
   ]
  },
  {
   "cell_type": "code",
   "execution_count": null,
   "id": "bbbaad82",
   "metadata": {},
   "outputs": [],
   "source": [
    "print(a)\n",
    "print(b)"
   ]
  },
  {
   "cell_type": "code",
   "execution_count": 59,
   "id": "f6b1e691",
   "metadata": {},
   "outputs": [
    {
     "data": {
      "text/plain": [
       "array(['AAA\\n', 'ACC\\n', 'ACG\\n', 'ACT\\n', 'AAA-\\n', 'A-CC\\n', 'ACG-\\n',\n",
       "       'A-CT\\n'], dtype=object)"
      ]
     },
     "execution_count": 59,
     "metadata": {},
     "output_type": "execute_result"
    }
   ],
   "source": []
  },
  {
   "cell_type": "code",
   "execution_count": 45,
   "id": "865fefa4",
   "metadata": {},
   "outputs": [
    {
     "name": "stdout",
     "output_type": "stream",
     "text": [
      "0\n",
      "1\n",
      "2\n",
      "3\n",
      "4\n",
      "5\n",
      "6\n",
      "7\n",
      "8\n"
     ]
    }
   ],
   "source": [
    "b = np.array([])\n",
    "for i in range(len(a)):\n",
    "    print(i)"
   ]
  },
  {
   "cell_type": "code",
   "execution_count": 38,
   "id": "812c4f38",
   "metadata": {},
   "outputs": [
    {
     "ename": "TypeError",
     "evalue": "slice indices must be integers or None or have an __index__ method",
     "output_type": "error",
     "traceback": [
      "\u001b[1;31m---------------------------------------------------------------------------\u001b[0m",
      "\u001b[1;31mTypeError\u001b[0m                                 Traceback (most recent call last)",
      "Cell \u001b[1;32mIn[38], line 1\u001b[0m\n\u001b[1;32m----> 1\u001b[0m \u001b[43mnp\u001b[49m\u001b[38;5;241;43m.\u001b[39;49m\u001b[43msplit\u001b[49m\u001b[43m(\u001b[49m\u001b[43ma\u001b[49m\u001b[43m,\u001b[49m\u001b[43m \u001b[49m\u001b[43ma\u001b[49m\u001b[43m[\u001b[49m\u001b[38;5;241;43m4\u001b[39;49m\u001b[43m:\u001b[49m\u001b[38;5;241;43m5\u001b[39;49m\u001b[43m]\u001b[49m\u001b[43m)\u001b[49m\n",
      "File \u001b[1;32m<__array_function__ internals>:180\u001b[0m, in \u001b[0;36msplit\u001b[1;34m(*args, **kwargs)\u001b[0m\n",
      "File \u001b[1;32m~\\anaconda3\\envs\\tf2\\lib\\site-packages\\numpy\\lib\\shape_base.py:874\u001b[0m, in \u001b[0;36msplit\u001b[1;34m(ary, indices_or_sections, axis)\u001b[0m\n\u001b[0;32m    871\u001b[0m     \u001b[38;5;28;01mif\u001b[39;00m N \u001b[38;5;241m%\u001b[39m sections:\n\u001b[0;32m    872\u001b[0m         \u001b[38;5;28;01mraise\u001b[39;00m \u001b[38;5;167;01mValueError\u001b[39;00m(\n\u001b[0;32m    873\u001b[0m             \u001b[38;5;124m'\u001b[39m\u001b[38;5;124marray split does not result in an equal division\u001b[39m\u001b[38;5;124m'\u001b[39m) \u001b[38;5;28;01mfrom\u001b[39;00m \u001b[38;5;28mNone\u001b[39m\n\u001b[1;32m--> 874\u001b[0m \u001b[38;5;28;01mreturn\u001b[39;00m \u001b[43marray_split\u001b[49m\u001b[43m(\u001b[49m\u001b[43mary\u001b[49m\u001b[43m,\u001b[49m\u001b[43m \u001b[49m\u001b[43mindices_or_sections\u001b[49m\u001b[43m,\u001b[49m\u001b[43m \u001b[49m\u001b[43maxis\u001b[49m\u001b[43m)\u001b[49m\n",
      "File \u001b[1;32m<__array_function__ internals>:180\u001b[0m, in \u001b[0;36marray_split\u001b[1;34m(*args, **kwargs)\u001b[0m\n",
      "File \u001b[1;32m~\\anaconda3\\envs\\tf2\\lib\\site-packages\\numpy\\lib\\shape_base.py:790\u001b[0m, in \u001b[0;36marray_split\u001b[1;34m(ary, indices_or_sections, axis)\u001b[0m\n\u001b[0;32m    788\u001b[0m     st \u001b[38;5;241m=\u001b[39m div_points[i]\n\u001b[0;32m    789\u001b[0m     end \u001b[38;5;241m=\u001b[39m div_points[i \u001b[38;5;241m+\u001b[39m \u001b[38;5;241m1\u001b[39m]\n\u001b[1;32m--> 790\u001b[0m     sub_arys\u001b[38;5;241m.\u001b[39mappend(_nx\u001b[38;5;241m.\u001b[39mswapaxes(\u001b[43msary\u001b[49m\u001b[43m[\u001b[49m\u001b[43mst\u001b[49m\u001b[43m:\u001b[49m\u001b[43mend\u001b[49m\u001b[43m]\u001b[49m, axis, \u001b[38;5;241m0\u001b[39m))\n\u001b[0;32m    792\u001b[0m \u001b[38;5;28;01mreturn\u001b[39;00m sub_arys\n",
      "\u001b[1;31mTypeError\u001b[0m: slice indices must be integers or None or have an __index__ method"
     ]
    }
   ],
   "source": []
  },
  {
   "cell_type": "code",
   "execution_count": null,
   "id": "fc346a5b",
   "metadata": {},
   "outputs": [],
   "source": []
  }
 ],
 "metadata": {
  "kernelspec": {
   "display_name": "Python 3 (ipykernel)",
   "language": "python",
   "name": "python3"
  },
  "language_info": {
   "codemirror_mode": {
    "name": "ipython",
    "version": 3
   },
   "file_extension": ".py",
   "mimetype": "text/x-python",
   "name": "python",
   "nbconvert_exporter": "python",
   "pygments_lexer": "ipython3",
   "version": "3.10.9"
  }
 },
 "nbformat": 4,
 "nbformat_minor": 5
}
