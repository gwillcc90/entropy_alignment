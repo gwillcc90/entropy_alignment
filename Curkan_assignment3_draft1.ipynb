{
 "cells": [
  {
   "cell_type": "code",
   "execution_count": 41,
   "id": "c2206d06",
   "metadata": {},
   "outputs": [],
   "source": [
    "s = 'ABCD'\n",
    "s2 = '-asdfABCD'\n",
    "s3 = '#'\n",
    "s4 = 'abcd-'\n",
    "s5 = 'ABD-'"
   ]
  },
  {
   "cell_type": "code",
   "execution_count": 2,
   "id": "dfb65e97",
   "metadata": {},
   "outputs": [],
   "source": [
    "import re"
   ]
  },
  {
   "cell_type": "code",
   "execution_count": 51,
   "id": "d765aef9",
   "metadata": {},
   "outputs": [
    {
     "name": "stdout",
     "output_type": "stream",
     "text": [
      "<re.Match object; span=(0, 2), match='-a'>\n"
     ]
    }
   ],
   "source": [
    "print(re.match('[A-Z]*[a-z]+|-[a-z][A-Z]*-*', s2))"
   ]
  },
  {
   "cell_type": "code",
   "execution_count": 61,
   "id": "22e4a47d",
   "metadata": {},
   "outputs": [
    {
     "name": "stdout",
     "output_type": "stream",
     "text": [
      "<re.Match object; span=(0, 4), match='ABCD'>\n",
      "<re.Match object; span=(0, 0), match=''>\n",
      "<re.Match object; span=(0, 0), match=''>\n",
      "<re.Match object; span=(0, 4), match='abcd'>\n",
      "<re.Match object; span=(0, 3), match='ABD'>\n"
     ]
    }
   ],
   "source": [
    "for elem in [s, s2, s3, s4, s5]:\n",
    "    print(re.match('[A-Z]*[a-z]*|-[a-z][A-Z]*-*', elem))"
   ]
  },
  {
   "cell_type": "code",
   "execution_count": 69,
   "id": "277290be",
   "metadata": {},
   "outputs": [
    {
     "name": "stdout",
     "output_type": "stream",
     "text": [
      "<re.Match object; span=(0, 4), match='ABCD'>\n",
      "<re.Match object; span=(0, 1), match='-'>\n",
      "None\n",
      "<re.Match object; span=(0, 1), match='a'>\n",
      "<re.Match object; span=(0, 3), match='ABD'>\n"
     ]
    }
   ],
   "source": [
    "for elem in [s, s2, s3, s4, s5]:\n",
    "    print(re.match('^[A-Z]+|^-|^[a-z]', elem))"
   ]
  },
  {
   "cell_type": "code",
   "execution_count": 73,
   "id": "5e59b437",
   "metadata": {},
   "outputs": [
    {
     "name": "stdout",
     "output_type": "stream",
     "text": [
      "<re.Match object; span=(0, 1), match='A'>\n",
      "<re.Match object; span=(0, 1), match='-'>\n",
      "None\n",
      "<re.Match object; span=(0, 1), match='a'>\n",
      "<re.Match object; span=(0, 1), match='A'>\n"
     ]
    }
   ],
   "source": [
    "for elem in [s, s2, s3, s4, s5]:\n",
    "    print(re.match('[^#]', elem))"
   ]
  },
  {
   "cell_type": "code",
   "execution_count": null,
   "id": "31153b19",
   "metadata": {},
   "outputs": [],
   "source": []
  }
 ],
 "metadata": {
  "kernelspec": {
   "display_name": "Python 3 (ipykernel)",
   "language": "python",
   "name": "python3"
  },
  "language_info": {
   "codemirror_mode": {
    "name": "ipython",
    "version": 3
   },
   "file_extension": ".py",
   "mimetype": "text/x-python",
   "name": "python",
   "nbconvert_exporter": "python",
   "pygments_lexer": "ipython3",
   "version": "3.10.9"
  }
 },
 "nbformat": 4,
 "nbformat_minor": 5
}
