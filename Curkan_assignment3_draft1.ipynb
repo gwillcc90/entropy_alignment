{
 "cells": [
  {
   "cell_type": "code",
   "execution_count": 12,
   "id": "dfb65e97",
   "metadata": {},
   "outputs": [],
   "source": [
    "import re\n",
    "from icecream import ic\n",
    "import numpy as np"
   ]
  },
  {
   "cell_type": "code",
   "execution_count": 55,
   "id": "8bf9738b",
   "metadata": {},
   "outputs": [
    {
     "name": "stderr",
     "output_type": "stream",
     "text": [
      "ic| read_alignment('test1.txt'): ['AAA', 'ACC', 'ACG', 'ACT', '#', 'AAA-', 'A-CC', 'ACG-', 'A-CT']\n",
      "ic| num_alignments(alignments): 2\n",
      "ic| columnarize(alignments): [['AAA', 'ACC', 'ACG', 'ACT'], ['AAA-', 'A-CC', 'ACG-', 'A-CT']]\n"
     ]
    }
   ],
   "source": [
    "def read_alignment(filename: str = 'test1.txt') -> list:\n",
    "    '''\n",
    "    DESCR\n",
    "    -----\n",
    "    Read in sequence alignment(s). \n",
    "    Entire file is line-by-line into a list object and stripped of whitespace.\n",
    "    List will have representation of some row-wise separator in case of multiple alignments.\n",
    "    \n",
    "    ARGS\n",
    "    -----\n",
    "    filename: name of file\n",
    "    \n",
    "    RETURNS\n",
    "    --------\n",
    "    list of alignments separated by any separator (if applicable).\n",
    "    '''\n",
    "    with open(filename, 'r') as file:\n",
    "        return [elem.strip() for elem in file.readlines()]\n",
    "\n",
    "\n",
    "ic(read_alignment('test1.txt'));\n",
    "alignments = read_alignment()\n",
    "\n",
    "def num_alignments(alignments: list) -> int:\n",
    "    '''\n",
    "    DESCR\n",
    "    ------\n",
    "    Checks to see if how many alignments are in an iterable of alignments by counting\n",
    "    the number of separators.\n",
    "    '''\n",
    "    return sum([1 if not re.match('^[A-Z]+|^-|^[a-z]+', seq) else 0 for seq in alignments]) + 1\n",
    "\n",
    "ic(num_alignments(alignments));\n",
    "\n",
    "def columnarize(alignments: list) -> list:\n",
    "    '''\n",
    "    This doesnt work for a single alignment; need to rework\n",
    "    '''\n",
    "    nested_list = list()\n",
    "    temp_list = list()\n",
    "\n",
    "    for i in range(len(alignments)):\n",
    "        # If element is part of an alignment\n",
    "        if re.match('^[A-Z]+|^-|^[a-z]+', alignments[i]):\n",
    "            # add to a temporary alignment\n",
    "            temp_list.append(alignments[i])\n",
    "        # If element is a separator\n",
    "        else:\n",
    "            try:\n",
    "                # add full alignment to a list of alignment(s)\n",
    "                nested_list.append(temp_list)\n",
    "                # reset temp alignment in case of more alignments\n",
    "                temp_list = list()\n",
    "            except:\n",
    "                break\n",
    "        \n",
    "    nested_list.append(temp_list)\n",
    "    return nested_list\n",
    "\n",
    "ic(columnarize(alignments))\n",
    "alignments = columnarize(alignments)\n",
    "\n",
    "\n",
    "NUCLEOTIDES = {'G', 'C', 'A', 'T', '-'}"
   ]
  },
  {
   "cell_type": "code",
   "execution_count": 350,
   "id": "8af30bb9",
   "metadata": {},
   "outputs": [],
   "source": [
    "class Alignment:\n",
    "    def __init__(self, alignment, score_set = None):\n",
    "        self.__alignment = alignment                           # Storing the alignment\n",
    "        self.__len = len(alignment)                            # Number of sequences\n",
    "        self.__len_seq = self.__check_seq_len(alignment)       # Sequence length\n",
    "        self.__score_set = score_set                           # Score set (could just find distinct chars in alignmnt)\n",
    "        self.T = self.__T()                                    # Transposing alignment for columnarization\n",
    "        self.__column_counters = self.__alignment_scores()     # Counter for each distinct char for each sequence\n",
    "        self.profile = self.__get_profile(order = None)        # Alignment profile\n",
    "        \n",
    "    \n",
    "    ''' Accessor functions '''\n",
    "    def get_len(self):\n",
    "        return self.__len\n",
    "    def get_seq_len(self):\n",
    "        return self.__len_seq\n",
    "    def get_score_set(self):\n",
    "        assert self.__score_set is not None, 'score_set is undefined in class initialization'\n",
    "        return self.__score_set\n",
    "    def __get_profile(self, order = None):\n",
    "        '''order sets the profile character order'''\n",
    "        return [\\\n",
    "                [self.__column_counters[i][elem]\\\n",
    "                 for elem in sorted(self.__score_set)] for i in range(len(self.__column_counters))]\n",
    "    def get_entropy(self):\n",
    "        pass\n",
    "\n",
    "    ''' Mutator functions '''\n",
    "    def set_score_set(self, score_set):\n",
    "        assert type(score_set) == set, f'set_score_set expected {type(set())}, got {type(score_set)}'\n",
    "        self.__score_set = score_set\n",
    "        \n",
    "    ''' Utility functions '''\n",
    "    # Transpose\n",
    "    def __T(self):\n",
    "        self.T = list()\n",
    "        temp_str = ''\n",
    "        for col in range(self.__len_seq):\n",
    "            for row in range(self.__len):\n",
    "                temp_str += self.__alignment[row][col]\n",
    "            self.T.append(temp_str)\n",
    "            temp_str = ''\n",
    "        return self.T\n",
    "    def __alignment_scores(self):\n",
    "        from collections import Counter\n",
    "        # Column counts based on column contents\n",
    "        column_counters = [Counter(elem) for elem in almnt.T]\n",
    "        # Column counts including 0-values \n",
    "        for column in column_counters:\n",
    "            for elem in list(self.__score_set):\n",
    "                if not column[elem]:\n",
    "                    column[elem] = 0\n",
    "        return column_counters\n",
    "        \n",
    "    \n",
    "    ''' Hidden Utilities '''\n",
    "    def __str__(self):\n",
    "        return str(self.__alignment)\n",
    "    \n",
    "    def __check_seq_len(self, alignment):\n",
    "        l = len(alignment[0]) # length of the first element of alignment\n",
    "        for elem in alignment:\n",
    "            if len(elem) != l:\n",
    "                raise Exception('something went wrong')\n",
    "            else:\n",
    "                return l"
   ]
  },
  {
   "cell_type": "code",
   "execution_count": 363,
   "id": "4517aeef",
   "metadata": {},
   "outputs": [],
   "source": [
    "b = ['AAA', 'ACC', 'ACG', 'ACT']\n",
    "almnt = Alignment(b, NUCLEOTIDES)"
   ]
  },
  {
   "cell_type": "code",
   "execution_count": 368,
   "id": "59e57581",
   "metadata": {},
   "outputs": [
    {
     "data": {
      "text/plain": [
       "['AAAA', 'ACCC', 'ACGT']"
      ]
     },
     "execution_count": 368,
     "metadata": {},
     "output_type": "execute_result"
    }
   ],
   "source": [
    "almnt.T"
   ]
  },
  {
   "cell_type": "code",
   "execution_count": 370,
   "id": "1001c2fc",
   "metadata": {},
   "outputs": [
    {
     "data": {
      "text/plain": [
       "[[0, 4, 0, 0, 0], [0, 1, 3, 0, 0], [0, 1, 1, 1, 1]]"
      ]
     },
     "execution_count": 370,
     "metadata": {},
     "output_type": "execute_result"
    }
   ],
   "source": [
    "a = almnt.profile\n",
    "a"
   ]
  },
  {
   "cell_type": "code",
   "execution_count": null,
   "id": "0d6b1b64",
   "metadata": {},
   "outputs": [],
   "source": []
  }
 ],
 "metadata": {
  "kernelspec": {
   "display_name": "Python 3 (ipykernel)",
   "language": "python",
   "name": "python3"
  },
  "language_info": {
   "codemirror_mode": {
    "name": "ipython",
    "version": 3
   },
   "file_extension": ".py",
   "mimetype": "text/x-python",
   "name": "python",
   "nbconvert_exporter": "python",
   "pygments_lexer": "ipython3",
   "version": "3.10.9"
  }
 },
 "nbformat": 4,
 "nbformat_minor": 5
}
