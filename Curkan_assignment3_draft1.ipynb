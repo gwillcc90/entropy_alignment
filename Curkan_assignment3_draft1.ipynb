{
 "cells": [
  {
   "cell_type": "code",
   "execution_count": 18,
   "id": "c2206d06",
   "metadata": {},
   "outputs": [],
   "source": [
    "s = 'ABCD'\n",
    "s2 = '-asdfABCD'\n",
    "s3 = '#'\n",
    "s4 = 'abcd-'\n",
    "s5 = 'ABD-'"
   ]
  },
  {
   "cell_type": "code",
   "execution_count": 19,
   "id": "dfb65e97",
   "metadata": {},
   "outputs": [],
   "source": [
    "import re"
   ]
  },
  {
   "cell_type": "code",
   "execution_count": 20,
   "id": "d765aef9",
   "metadata": {},
   "outputs": [
    {
     "name": "stdout",
     "output_type": "stream",
     "text": [
      "<re.Match object; span=(0, 2), match='-a'>\n"
     ]
    }
   ],
   "source": [
    "print(re.match('[A-Z]*[a-z]+|-[a-z][A-Z]*-*', s2))"
   ]
  },
  {
   "cell_type": "code",
   "execution_count": 21,
   "id": "22e4a47d",
   "metadata": {},
   "outputs": [
    {
     "name": "stdout",
     "output_type": "stream",
     "text": [
      "<re.Match object; span=(0, 4), match='ABCD'>\n",
      "<re.Match object; span=(0, 0), match=''>\n",
      "<re.Match object; span=(0, 0), match=''>\n",
      "<re.Match object; span=(0, 4), match='abcd'>\n",
      "<re.Match object; span=(0, 3), match='ABD'>\n"
     ]
    }
   ],
   "source": [
    "for elem in [s, s2, s3, s4, s5]:\n",
    "    print(re.match('[A-Z]*[a-z]*|-[a-z][A-Z]*-*', elem))"
   ]
  },
  {
   "cell_type": "code",
   "execution_count": 22,
   "id": "277290be",
   "metadata": {},
   "outputs": [
    {
     "name": "stdout",
     "output_type": "stream",
     "text": [
      "<re.Match object; span=(0, 4), match='ABCD'>\n",
      "<re.Match object; span=(0, 1), match='-'>\n",
      "None\n",
      "<re.Match object; span=(0, 1), match='a'>\n",
      "<re.Match object; span=(0, 3), match='ABD'>\n"
     ]
    }
   ],
   "source": [
    "for elem in [s, s2, s3, s4, s5]:\n",
    "    print(re.match('^[A-Z]+|^-|^[a-z]', elem))"
   ]
  },
  {
   "cell_type": "code",
   "execution_count": 23,
   "id": "5e59b437",
   "metadata": {},
   "outputs": [
    {
     "name": "stdout",
     "output_type": "stream",
     "text": [
      "<re.Match object; span=(0, 1), match='A'>\n",
      "<re.Match object; span=(0, 1), match='-'>\n",
      "None\n",
      "<re.Match object; span=(0, 1), match='a'>\n",
      "<re.Match object; span=(0, 1), match='A'>\n"
     ]
    }
   ],
   "source": [
    "for elem in [s, s2, s3, s4, s5]:\n",
    "    print(re.match('[^#]', elem))"
   ]
  },
  {
   "cell_type": "code",
   "execution_count": 24,
   "id": "31153b19",
   "metadata": {},
   "outputs": [],
   "source": [
    "# comment for recommit"
   ]
  },
  {
   "cell_type": "code",
   "execution_count": 25,
   "id": "a9dffa61",
   "metadata": {},
   "outputs": [],
   "source": [
    "import numpy as np"
   ]
  },
  {
   "cell_type": "code",
   "execution_count": 63,
   "id": "07585cf3",
   "metadata": {},
   "outputs": [],
   "source": [
    "# Start reading sequences\n",
    "with open('test1.txt', 'r') as f:\n",
    "    a = f.readlines()\n",
    "    \n"
   ]
  },
  {
   "cell_type": "code",
   "execution_count": 69,
   "id": "ee908d06",
   "metadata": {},
   "outputs": [
    {
     "data": {
      "text/plain": [
       "['AAA', 'ACC', 'ACG', 'ACT', '#', 'AAA-', 'A-CC', 'ACG-', 'A-CT']"
      ]
     },
     "execution_count": 69,
     "metadata": {},
     "output_type": "execute_result"
    }
   ],
   "source": [
    "[elem.strip() for elem in a]"
   ]
  },
  {
   "cell_type": "code",
   "execution_count": 70,
   "id": "2655becf",
   "metadata": {},
   "outputs": [
    {
     "data": {
      "text/plain": [
       "['AAA\\n',\n",
       " 'ACC\\n',\n",
       " 'ACG\\n',\n",
       " 'ACT\\n',\n",
       " '#\\n',\n",
       " 'AAA-\\n',\n",
       " 'A-CC\\n',\n",
       " 'ACG-\\n',\n",
       " 'A-CT\\n']"
      ]
     },
     "execution_count": 70,
     "metadata": {},
     "output_type": "execute_result"
    }
   ],
   "source": [
    "a"
   ]
  },
  {
   "cell_type": "code",
   "execution_count": 77,
   "id": "7a0c442f",
   "metadata": {},
   "outputs": [
    {
     "data": {
      "text/plain": [
       "['AAA', 'ACC', 'ACG', 'ACT', '#', 'AAA-', 'A-CC', 'ACG-', 'A-CT']"
      ]
     },
     "execution_count": 77,
     "metadata": {},
     "output_type": "execute_result"
    }
   ],
   "source": [
    "a = list(map(str.strip, a))\n",
    "a"
   ]
  },
  {
   "cell_type": "code",
   "execution_count": 102,
   "id": "29bd72d5",
   "metadata": {},
   "outputs": [
    {
     "data": {
      "text/plain": [
       "array([['AAA', 'ACC', 'ACG', 'ACT']], dtype='<U3')"
      ]
     },
     "execution_count": 102,
     "metadata": {},
     "output_type": "execute_result"
    }
   ],
   "source": []
  },
  {
   "cell_type": "code",
   "execution_count": 100,
   "id": "985ea1ea",
   "metadata": {},
   "outputs": [
    {
     "data": {
      "text/plain": [
       "'AAA'"
      ]
     },
     "execution_count": 100,
     "metadata": {},
     "output_type": "execute_result"
    }
   ],
   "source": [
    "c[0][0]"
   ]
  },
  {
   "cell_type": "code",
   "execution_count": 30,
   "id": "b51b4716",
   "metadata": {},
   "outputs": [
    {
     "name": "stdout",
     "output_type": "stream",
     "text": [
      "AAA\n",
      "\n",
      "ACC\n",
      "\n",
      "ACG\n",
      "\n",
      "ACT\n",
      "\n",
      "None\n",
      "AAA-\n",
      "\n",
      "A-CC\n",
      "\n",
      "ACG-\n",
      "\n",
      "A-CT\n",
      "\n"
     ]
    }
   ],
   "source": [
    "for i in a:\n",
    "    print(i if re.match('[^#]', i) else None)"
   ]
  },
  {
   "cell_type": "code",
   "execution_count": 55,
   "id": "360eb778",
   "metadata": {},
   "outputs": [],
   "source": [
    "def array_regex(i):\n",
    "    return np.array([True if re.match('[^#]', i) else False])\n",
    "\n",
    "ar = np.vectorize(array_regex)\n",
    "\n",
    "b = ar(a)"
   ]
  },
  {
   "cell_type": "code",
   "execution_count": 56,
   "id": "bbbaad82",
   "metadata": {},
   "outputs": [
    {
     "name": "stdout",
     "output_type": "stream",
     "text": [
      "['AAA\\n' 'ACC\\n' 'ACG\\n' 'ACT\\n' '#\\n' 'AAA-\\n' 'A-CC\\n' 'ACG-\\n' 'A-CT\\n']\n",
      "[ True  True  True  True False  True  True  True  True]\n"
     ]
    }
   ],
   "source": [
    "print(a)\n",
    "print(b)"
   ]
  },
  {
   "cell_type": "code",
   "execution_count": 59,
   "id": "f6b1e691",
   "metadata": {},
   "outputs": [
    {
     "data": {
      "text/plain": [
       "array(['AAA\\n', 'ACC\\n', 'ACG\\n', 'ACT\\n', 'AAA-\\n', 'A-CC\\n', 'ACG-\\n',\n",
       "       'A-CT\\n'], dtype=object)"
      ]
     },
     "execution_count": 59,
     "metadata": {},
     "output_type": "execute_result"
    }
   ],
   "source": []
  },
  {
   "cell_type": "code",
   "execution_count": 45,
   "id": "865fefa4",
   "metadata": {},
   "outputs": [
    {
     "name": "stdout",
     "output_type": "stream",
     "text": [
      "0\n",
      "1\n",
      "2\n",
      "3\n",
      "4\n",
      "5\n",
      "6\n",
      "7\n",
      "8\n"
     ]
    }
   ],
   "source": [
    "b = np.array([])\n",
    "for i in range(len(a)):\n",
    "    print(i)"
   ]
  },
  {
   "cell_type": "code",
   "execution_count": 38,
   "id": "812c4f38",
   "metadata": {},
   "outputs": [
    {
     "ename": "TypeError",
     "evalue": "slice indices must be integers or None or have an __index__ method",
     "output_type": "error",
     "traceback": [
      "\u001b[1;31m---------------------------------------------------------------------------\u001b[0m",
      "\u001b[1;31mTypeError\u001b[0m                                 Traceback (most recent call last)",
      "Cell \u001b[1;32mIn[38], line 1\u001b[0m\n\u001b[1;32m----> 1\u001b[0m \u001b[43mnp\u001b[49m\u001b[38;5;241;43m.\u001b[39;49m\u001b[43msplit\u001b[49m\u001b[43m(\u001b[49m\u001b[43ma\u001b[49m\u001b[43m,\u001b[49m\u001b[43m \u001b[49m\u001b[43ma\u001b[49m\u001b[43m[\u001b[49m\u001b[38;5;241;43m4\u001b[39;49m\u001b[43m:\u001b[49m\u001b[38;5;241;43m5\u001b[39;49m\u001b[43m]\u001b[49m\u001b[43m)\u001b[49m\n",
      "File \u001b[1;32m<__array_function__ internals>:180\u001b[0m, in \u001b[0;36msplit\u001b[1;34m(*args, **kwargs)\u001b[0m\n",
      "File \u001b[1;32m~\\anaconda3\\envs\\tf2\\lib\\site-packages\\numpy\\lib\\shape_base.py:874\u001b[0m, in \u001b[0;36msplit\u001b[1;34m(ary, indices_or_sections, axis)\u001b[0m\n\u001b[0;32m    871\u001b[0m     \u001b[38;5;28;01mif\u001b[39;00m N \u001b[38;5;241m%\u001b[39m sections:\n\u001b[0;32m    872\u001b[0m         \u001b[38;5;28;01mraise\u001b[39;00m \u001b[38;5;167;01mValueError\u001b[39;00m(\n\u001b[0;32m    873\u001b[0m             \u001b[38;5;124m'\u001b[39m\u001b[38;5;124marray split does not result in an equal division\u001b[39m\u001b[38;5;124m'\u001b[39m) \u001b[38;5;28;01mfrom\u001b[39;00m \u001b[38;5;28mNone\u001b[39m\n\u001b[1;32m--> 874\u001b[0m \u001b[38;5;28;01mreturn\u001b[39;00m \u001b[43marray_split\u001b[49m\u001b[43m(\u001b[49m\u001b[43mary\u001b[49m\u001b[43m,\u001b[49m\u001b[43m \u001b[49m\u001b[43mindices_or_sections\u001b[49m\u001b[43m,\u001b[49m\u001b[43m \u001b[49m\u001b[43maxis\u001b[49m\u001b[43m)\u001b[49m\n",
      "File \u001b[1;32m<__array_function__ internals>:180\u001b[0m, in \u001b[0;36marray_split\u001b[1;34m(*args, **kwargs)\u001b[0m\n",
      "File \u001b[1;32m~\\anaconda3\\envs\\tf2\\lib\\site-packages\\numpy\\lib\\shape_base.py:790\u001b[0m, in \u001b[0;36marray_split\u001b[1;34m(ary, indices_or_sections, axis)\u001b[0m\n\u001b[0;32m    788\u001b[0m     st \u001b[38;5;241m=\u001b[39m div_points[i]\n\u001b[0;32m    789\u001b[0m     end \u001b[38;5;241m=\u001b[39m div_points[i \u001b[38;5;241m+\u001b[39m \u001b[38;5;241m1\u001b[39m]\n\u001b[1;32m--> 790\u001b[0m     sub_arys\u001b[38;5;241m.\u001b[39mappend(_nx\u001b[38;5;241m.\u001b[39mswapaxes(\u001b[43msary\u001b[49m\u001b[43m[\u001b[49m\u001b[43mst\u001b[49m\u001b[43m:\u001b[49m\u001b[43mend\u001b[49m\u001b[43m]\u001b[49m, axis, \u001b[38;5;241m0\u001b[39m))\n\u001b[0;32m    792\u001b[0m \u001b[38;5;28;01mreturn\u001b[39;00m sub_arys\n",
      "\u001b[1;31mTypeError\u001b[0m: slice indices must be integers or None or have an __index__ method"
     ]
    }
   ],
   "source": []
  },
  {
   "cell_type": "code",
   "execution_count": null,
   "id": "fc346a5b",
   "metadata": {},
   "outputs": [],
   "source": []
  }
 ],
 "metadata": {
  "kernelspec": {
   "display_name": "Python 3 (ipykernel)",
   "language": "python",
   "name": "python3"
  },
  "language_info": {
   "codemirror_mode": {
    "name": "ipython",
    "version": 3
   },
   "file_extension": ".py",
   "mimetype": "text/x-python",
   "name": "python",
   "nbconvert_exporter": "python",
   "pygments_lexer": "ipython3",
   "version": "3.10.9"
  }
 },
 "nbformat": 4,
 "nbformat_minor": 5
}
